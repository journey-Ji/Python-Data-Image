{
  "nbformat": 4,
  "nbformat_minor": 0,
  "metadata": {
    "colab": {
      "name": "웹 크롤링.ipynb",
      "provenance": [],
      "collapsed_sections": [],
      "authorship_tag": "ABX9TyMWR/tnV5gbW0isNnK+efiO",
      "include_colab_link": true
    },
    "kernelspec": {
      "name": "python3",
      "display_name": "Python 3"
    }
  },
  "cells": [
    {
      "cell_type": "markdown",
      "metadata": {
        "id": "view-in-github",
        "colab_type": "text"
      },
      "source": [
        "<a href=\"https://colab.research.google.com/github/journey-Ji/Python-Data-Image/blob/main/%EC%9B%B9_%ED%81%AC%EB%A1%A4%EB%A7%81.ipynb\" target=\"_parent\"><img src=\"https://colab.research.google.com/assets/colab-badge.svg\" alt=\"Open In Colab\"/></a>"
      ]
    },
    {
      "cell_type": "code",
      "metadata": {
        "id": "tWaoAOIfDRE5"
      },
      "source": [
        ""
      ],
      "execution_count": null,
      "outputs": []
    },
    {
      "cell_type": "markdown",
      "metadata": {
        "id": "tY0CIEPSDVFZ"
      },
      "source": [
        "# 웹 크롤러(Web crawler)\n",
        "\n",
        "-자동화된 방법으로 웹에서 다양한 정보를 수집하는 소프트웨어\n",
        "\n",
        "-원하는 서비스에서 원하는 정보를 편하게 얻어올 수 있다."
      ]
    },
    {
      "cell_type": "markdown",
      "metadata": {
        "id": "TyGwv7lLEAnz"
      },
      "source": [
        "특정 웹 사이트 HTML 코드 추출 1"
      ]
    },
    {
      "cell_type": "code",
      "metadata": {
        "colab": {
          "base_uri": "https://localhost:8080/"
        },
        "id": "7-hz2TfQDX6a",
        "outputId": "4830df88-6828-48be-e447-a814d4198474"
      },
      "source": [
        "import requests\n",
        "\n",
        "#특정 URL에 접속하는 요청(Requests)객체를 생성합니다.\n",
        "request = requests.get(\"http://www.dowellcomputer.com/main.jsp\")\n",
        "\n",
        "#접속한 이후의 웹 사이트 소스코드를 추출합니다.\n",
        "html = request.text.strip()\n",
        "\n",
        "print(html)\n"
      ],
      "execution_count": 1,
      "outputs": [
        {
          "output_type": "stream",
          "text": [
            "<!DOCTYPE html>\r\n",
            " \r\n",
            "<html>\r\n",
            "\t<head>\r\n",
            "\t\t<link rel=\"stylesheet\" type=\"text/css\" href=\"./css/mainStyle.css\">\t\r\n",
            "\t\t<meta http-equiv=\"Content-Type\" content=\"text/html; charset=UTF-8\">\r\n",
            "\t\t<title>컴잘알</title>\r\n",
            "\t</head>\r\n",
            "\t<body>\r\n",
            "\t\t<div id=\"mainBox\">\r\n",
            "\t\t\t<div id=\"titleBox\">\r\n",
            "\t\t\t\t<a href=\"./main.jsp\">컴잘알</a>\r\n",
            "\t\t\t</div>\r\n",
            "\t\t\t<div id=\"navigationBox\">\r\n",
            "\t\t\t\t\r\n",
            "\t\t\t\t\t\t<a href=\"./member/memberLoginForm.jsp\" class=\"basicButton\">로그인</a>\r\n",
            "\t\t\t\t\t\t<a href=\"./member/memberJoinForm.jsp\" class=\"basicButton\">회원가입</a>\r\n",
            "\t\t\t\t\r\n",
            "\t\t\t\t\t<a href=\"./study/study.jsp\" class=\"basicButton\">공부방</a>\r\n",
            "\t\t\t\t\t<a href=\"./talk/talkListForm.jsp\" class=\"basicButton\">대화방</a>\r\n",
            "\t\t\t\t\t<a href=\"./notice/noticeListForm.jsp\" class=\"basicButton\">공지사항</a>\r\n",
            "\t\t\t</div>\r\n",
            "\t\t\t<hr style=\"border: 2px solid black;\">\r\n",
            "\t\t\t<div class=\"slideshow-container\"><br>\r\n",
            "\t\t\t  <div class=\"mySlides fade\">\r\n",
            "\t\t\t    <img src=\"./image/mainOne.jpg\" style=\"width:100%\">\r\n",
            "\t\t\t  </div>\r\n",
            "\t\t\t  <div class=\"mySlides fade\">\r\n",
            "\t\t\t    <img src=\"./image/mainTwo.jpg\" style=\"width:100%\">\r\n",
            "\t\t\t  </div>\r\n",
            "\t\t\t  <div class=\"mySlides fade\">\r\n",
            "\t\t\t    <img src=\"./image/mainThree.jpg\" style=\"width:100%\">\r\n",
            "\t\t\t  </div>\r\n",
            "\t\t\t  <a class=\"prev\" onclick=\"plusSlides(-1)\">&#10094;</a>\r\n",
            "\t\t\t  <a class=\"next\" onclick=\"plusSlides(1)\">&#10095;</a>\r\n",
            "\t\t\t</div>\r\n",
            "\t\t\t<br>\r\n",
            "\t\t\t<div style=\"text-align:center\">\r\n",
            "\t\t\t  <span class=\"dot\" onclick=\"currentSlide(1)\"></span> \r\n",
            "\t\t\t  <span class=\"dot\" onclick=\"currentSlide(2)\"></span> \r\n",
            "\t\t\t  <span class=\"dot\" onclick=\"currentSlide(3)\"></span> \r\n",
            "\t\t\t</div>\r\n",
            "\t\t\t<script>\r\n",
            "\t\t\t\tvar slideIndex = 1;\r\n",
            "\t\t\t\tshowSlides(slideIndex);\r\n",
            "\t\t\t\t\r\n",
            "\t\t\t\tfunction plusSlides(n) {\r\n",
            "\t\t\t\t  showSlides(slideIndex += n);\r\n",
            "\t\t\t\t}\r\n",
            "\t\t\t\t\r\n",
            "\t\t\t\tfunction currentSlide(n) {\r\n",
            "\t\t\t\t  showSlides(slideIndex = n);\r\n",
            "\t\t\t\t}\r\n",
            "\t\t\t\t\r\n",
            "\t\t\t\tfunction showSlides(n) {\r\n",
            "\t\t\t\t  var i;\r\n",
            "\t\t\t\t  var slides = document.getElementsByClassName(\"mySlides\");\r\n",
            "\t\t\t\t  var dots = document.getElementsByClassName(\"dot\");\r\n",
            "\t\t\t\t  if (n > slides.length) {slideIndex = 1} \r\n",
            "\t\t\t\t  if (n < 1) {slideIndex = slides.length}\r\n",
            "\t\t\t\t  for (i = 0; i < slides.length; i++) {\r\n",
            "\t\t\t\t      slides[i].style.display = \"none\"; \r\n",
            "\t\t\t\t  }\r\n",
            "\t\t\t\t  for (i = 0; i < dots.length; i++) {\r\n",
            "\t\t\t\t      dots[i].className = dots[i].className.replace(\" active\", \"\");\r\n",
            "\t\t\t\t  }\r\n",
            "\t\t\t\t  slides[slideIndex-1].style.display = \"block\"; \r\n",
            "\t\t\t\t  dots[slideIndex-1].className += \" active\";\r\n",
            "\t\t\t\t}\r\n",
            "\t\t\t</script>\r\n",
            "\t\t\t<br>\r\n",
            "\t\t\t<div id=\"viewBox\">\r\n",
            "\t\t\t\t<table>\r\n",
            "\t\t        \t<tr>\r\n",
            "\t\t        \t\t<td class=\"head\" colspan=\"4\">\r\n",
            "\t\t        \t\t\t최근 공지사항\r\n",
            "\t\t        \t\t</td>\r\n",
            "\t\t        \t</tr>\t\t\t\t\r\n",
            "\t\t\t\t    <tr>\r\n",
            "\t\t\t\t        <td class=\"middle\">\r\n",
            "\t\t\t\t        \t아이디\r\n",
            "\t\t\t\t        </td>\r\n",
            "\t\t\t\t        <td class=\"middle\" style=\"width: 320px;\">\r\n",
            "\t\t\t\t        \t제목\r\n",
            "\t\t\t\t        </td>\r\n",
            "\t\t\t\t        <td class=\"middle\" style=\"width: 180px;\">\r\n",
            "\t\t\t\t        \t게시글 등록일\r\n",
            "\t\t\t\t        </td>\t\t \t\t        \t        \t\t        \t\t        \r\n",
            "\t\t\t\t    </tr>\r\n",
            "\t\t\t\t     \r\n",
            "\t\t\t\t    <tr> \r\n",
            "\t\t\t\t    \t<td class=\"tail\" style=\"text-align: center;\">나동빈</td>\r\n",
            "\t\t\t\t    \t<td class=\"tail\"><a href=\"./notice/noticeViewForm.jsp?noticeID=4\"><b>자바 기초 프로그래밍 강좌를 완강했습니다.</b></a></td>\r\n",
            "\t\t\t\t    \t<td class=\"tail\" style=\"text-align: center;\">2017-05-02\r\n",
            "\t\t\t\t    </tr>\r\n",
            "\t\t\t\t \r\n",
            "\t\t\t\t    <tr> \r\n",
            "\t\t\t\t    \t<td class=\"tail\" style=\"text-align: center;\">나동빈</td>\r\n",
            "\t\t\t\t    \t<td class=\"tail\"><a href=\"./notice/noticeViewForm.jsp?noticeID=1\"><b>컴잘알에 오신 것을 환영합니다.</b></a></td>\r\n",
            "\t\t\t\t    \t<td class=\"tail\" style=\"text-align: center;\">2016-11-28\r\n",
            "\t\t\t\t    </tr>\r\n",
            "\t\t\t\t \r\n",
            "\t\t\t\t</table>\t\t\t\r\n",
            "\t\t\t</div>\t\r\n",
            "\t\t\t<div class=\"studyViewBox\">\r\n",
            "\t\t\t\t<table>\r\n",
            "\t\t        \t<tr>\r\n",
            "\t\t        \t\t<td class=\"head\" colspan=\"3\">\r\n",
            "\t\t        \t\t\t최근 강의\r\n",
            "\t\t        \t\t</td>\r\n",
            "\t\t        \t</tr>\t\t\t\t\r\n",
            "\t\t\t\t    <tr>\r\n",
            "\t\t\t\t        <td class=\"middle\">\r\n",
            "\t\t\t\t        \t선생님\r\n",
            "\t\t\t\t        </td>\r\n",
            "\t\t\t\t        <td class=\"middle\" style=\"width: 560px;\">\r\n",
            "\t\t\t\t        \t제목\r\n",
            "\t\t\t\t        </td>\r\n",
            "\t\t\t\t        <td class=\"middle\" style=\"width: 180px;\">\r\n",
            "\t\t\t\t        \t게시글 등록일\r\n",
            "\t\t\t\t        </td>\t\t \t\t        \t        \t\t        \t\t        \r\n",
            "\t\t\t\t    </tr>\r\n",
            "\t\t\t\t     \r\n",
            "\t\t\t\t    <tr> \r\n",
            "\t\t\t\t    \t<td class=\"tail\" style=\"text-align: center;\">나동빈</td>\r\n",
            "\t\t\t\t    \t<td class=\"tail\"><a href=\"./study/study.jsp?studyID=85\"><b>C언어 기초 프로그래밍 강좌 20강 - 동적 메모리의 활용 (C Programming Tutorial For Beginners 2017 #20) </b></a></td>\r\n",
            "\t\t\t\t    \t<td class=\"tail\" style=\"text-align: center;\">2017-05-15\r\n",
            "\t\t\t\t    </tr>\r\n",
            "\t\t\t\t \r\n",
            "\t\t\t\t    <tr> \r\n",
            "\t\t\t\t    \t<td class=\"tail\" style=\"text-align: center;\">나동빈</td>\r\n",
            "\t\t\t\t    \t<td class=\"tail\"><a href=\"./study/study.jsp?studyID=84\"><b>C언어 기초 프로그래밍 강좌 19강 - 동적 메모리 (C Programming Tutorial For Beginners 2017 #19) </b></a></td>\r\n",
            "\t\t\t\t    \t<td class=\"tail\" style=\"text-align: center;\">2017-05-15\r\n",
            "\t\t\t\t    </tr>\r\n",
            "\t\t\t\t \r\n",
            "\t\t\t\t    <tr> \r\n",
            "\t\t\t\t    \t<td class=\"tail\" style=\"text-align: center;\">나동빈</td>\r\n",
            "\t\t\t\t    \t<td class=\"tail\"><a href=\"./study/study.jsp?studyID=83\"><b>C언어 기초 프로그래밍 강좌 18강 - 파일 입출력 (C Programming Tutorial For Beginners 2017 #18) </b></a></td>\r\n",
            "\t\t\t\t    \t<td class=\"tail\" style=\"text-align: center;\">2017-05-15\r\n",
            "\t\t\t\t    </tr>\r\n",
            "\t\t\t\t \r\n",
            "\t\t\t\t    <tr> \r\n",
            "\t\t\t\t    \t<td class=\"tail\" style=\"text-align: center;\">나동빈</td>\r\n",
            "\t\t\t\t    \t<td class=\"tail\"><a href=\"./study/study.jsp?studyID=82\"><b>C언어 기초 프로그래밍 강좌 17강 - 구조체의 활용 ② (C Programming Tutorial For Beginners 2017 #17) </b></a></td>\r\n",
            "\t\t\t\t    \t<td class=\"tail\" style=\"text-align: center;\">2017-05-15\r\n",
            "\t\t\t\t    </tr>\r\n",
            "\t\t\t\t \r\n",
            "\t\t\t\t    <tr> \r\n",
            "\t\t\t\t    \t<td class=\"tail\" style=\"text-align: center;\">나동빈</td>\r\n",
            "\t\t\t\t    \t<td class=\"tail\"><a href=\"./study/study.jsp?studyID=81\"><b>C언어 기초 프로그래밍 강좌 16강 - 구조체의 활용 ① (C Programming Tutorial For Beginners 2017 #16) </b></a></td>\r\n",
            "\t\t\t\t    \t<td class=\"tail\" style=\"text-align: center;\">2017-05-15\r\n",
            "\t\t\t\t    </tr>\r\n",
            "\t\t\t\t \r\n",
            "\t\t\t\t</table>\r\n",
            "\t\t\t</div>\t\r\n",
            "\t\t</div>\t\r\n",
            "\t</body>\r\n",
            "</html>\n"
          ],
          "name": "stdout"
        }
      ]
    },
    {
      "cell_type": "markdown",
      "metadata": {
        "id": "kpsLhwiHFDZF"
      },
      "source": [
        "특정 웹 사이트 HTML 코드 추출2"
      ]
    },
    {
      "cell_type": "code",
      "metadata": {
        "colab": {
          "base_uri": "https://localhost:8080/",
          "height": 125
        },
        "id": "FPEf3_hCFGkz",
        "outputId": "a41a8bd3-f8a8-4d40-b6ec-a63f92517967"
      },
      "source": [
        "import requests\n",
        "from bs4 import BeautifulSoup\n",
        "\n",
        "# 특정 URL에 접속하는 요청(Request)객체를 생성한다.\n",
        "request = requests.get(\"http://www.dowellcomputer.com/main.jsp\")\n",
        "# 접속한 이후의 웹사이트 소스코드를 추출합니다.\n",
        "html = request.text\n",
        "# HTML 소스코드를 파이썬 BeautifulSoup 객체로 변환합니다.\n",
        "soup = BeautifulSoup(html, 'html.parser')\n",
        "\n",
        "#td태그중 <a> 태그를 포함하는 요소를 추출합니다. \n",
        "links = soup.select('td > a')\n",
        "\n",
        "\n",
        "\n",
        "#모든 링크에 하나씩 접근합니다.\n",
        "for link in links:\n",
        "  #링크가 href 속성을 가지고 있다면\n",
        "  if link.has_attr('href'):\n",
        "    #href속성의 값으로 notice라는 문자가 포함되어 있다면\n",
        "    if link.get('href').find('notice') !=-1:\n",
        "      print(link.text)\n",
        "\n"
      ],
      "execution_count": 4,
      "outputs": [
        {
          "output_type": "stream",
          "text": [
            "[<a href=\"./notice/noticeViewForm.jsp?noticeID=4\"><b>자바 기초 프로그래밍 강좌를 완강했습니다.</b></a>, <a href=\"./notice/noticeViewForm.jsp?noticeID=1\"><b>컴잘알에 오신 것을 환영합니다.</b></a>, <a href=\"./study/study.jsp?studyID=85\"><b>C언어 기초 프로그래밍 강좌 20강 - 동적 메모리의 활용 (C Programming Tutorial For Beginners 2017 #20) </b></a>, <a href=\"./study/study.jsp?studyID=84\"><b>C언어 기초 프로그래밍 강좌 19강 - 동적 메모리 (C Programming Tutorial For Beginners 2017 #19) </b></a>, <a href=\"./study/study.jsp?studyID=83\"><b>C언어 기초 프로그래밍 강좌 18강 - 파일 입출력 (C Programming Tutorial For Beginners 2017 #18) </b></a>, <a href=\"./study/study.jsp?studyID=82\"><b>C언어 기초 프로그래밍 강좌 17강 - 구조체의 활용 ② (C Programming Tutorial For Beginners 2017 #17) </b></a>, <a href=\"./study/study.jsp?studyID=81\"><b>C언어 기초 프로그래밍 강좌 16강 - 구조체의 활용 ① (C Programming Tutorial For Beginners 2017 #16) </b></a>]\n"
          ],
          "name": "stdout"
        },
        {
          "output_type": "execute_result",
          "data": {
            "application/vnd.google.colaboratory.intrinsic+json": {
              "type": "string"
            },
            "text/plain": [
              "\"\\n#모든 링크에 하나씩 접근합니다.\\nfor link in links:\\n  #링크가 href 속성을 가지고 있다면\\n  if link.has_attr('href'):\\n    #href속성의 값으로 notice라는 문자가 포함되어 있다면\\n    if link.get('href').find('notice') !=-1:\\n      print(link.text)\\n\\n\""
            ]
          },
          "metadata": {
            "tags": []
          },
          "execution_count": 4
        }
      ]
    },
    {
      "cell_type": "markdown",
      "metadata": {
        "id": "Nwc1O5-7DVIo"
      },
      "source": [
        "# 새 섹션"
      ]
    }
  ]
}