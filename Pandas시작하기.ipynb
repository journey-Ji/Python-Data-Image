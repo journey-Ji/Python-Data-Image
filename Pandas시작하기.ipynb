{
  "nbformat": 4,
  "nbformat_minor": 0,
  "metadata": {
    "colab": {
      "name": "Pandas시작하기.ipynb",
      "provenance": [],
      "collapsed_sections": [
        "ml-7P4lGTjO2",
        "BlXT4AQhUrn_"
      ],
      "authorship_tag": "ABX9TyNoOih1XfNsj/0SUhoBV326",
      "include_colab_link": true
    },
    "kernelspec": {
      "name": "python3",
      "display_name": "Python 3"
    }
  },
  "cells": [
    {
      "cell_type": "markdown",
      "metadata": {
        "id": "view-in-github",
        "colab_type": "text"
      },
      "source": [
        "<a href=\"https://colab.research.google.com/github/journey-Ji/Python-/blob/main/Pandas%EC%8B%9C%EC%9E%91%ED%95%98%EA%B8%B0.ipynb\" target=\"_parent\"><img src=\"https://colab.research.google.com/assets/colab-badge.svg\" alt=\"Open In Colab\"/></a>"
      ]
    },
    {
      "cell_type": "markdown",
      "metadata": {
        "id": "0wjtAZ1KMu0S"
      },
      "source": [
        "colab을 이용하여 Pandas시작하기\n"
      ]
    },
    {
      "cell_type": "markdown",
      "metadata": {
        "id": "ml-7P4lGTjO2"
      },
      "source": [
        "# Pandas 시작하기"
      ]
    },
    {
      "cell_type": "code",
      "metadata": {
        "colab": {
          "base_uri": "https://localhost:8080/"
        },
        "id": "inH_DtUPM6KW",
        "outputId": "3fb15be7-5686-41f4-fc0a-50b4a0c370cd"
      },
      "source": [
        "import pandas as pd\n",
        "array =pd.Series(['사과','바나나','당근'], index=['a','b','c'])\n",
        "print(array)\n",
        "print('\\n')\n",
        "print(array['a']) #index값을 추가로 넣어주면 해당 위치의 값을 출력"
      ],
      "execution_count": null,
      "outputs": [
        {
          "output_type": "stream",
          "text": [
            "a     사과\n",
            "b    바나나\n",
            "c     당근\n",
            "dtype: object\n",
            "\n",
            "\n",
            "사과\n"
          ],
          "name": "stdout"
        }
      ]
    },
    {
      "cell_type": "code",
      "metadata": {
        "colab": {
          "base_uri": "https://localhost:8080/"
        },
        "id": "yZhTT-yuNWw6",
        "outputId": "ab8445ca-35f5-404a-dded-3c3280d91f62"
      },
      "source": [
        "import pandas as pd\n",
        "data={ #딕셔너리 자료형 생성\n",
        "    'a':'사과',\n",
        "    'b':'바나나',\n",
        "    'c':'당근'\n",
        "}\n",
        "#Dict 자료형을 Series로 바꾸기\n",
        "array = pd.Series(data) #Series()함수에 해당 dictionary 변수를 삽입\n",
        "print(array['a'])\n"
      ],
      "execution_count": null,
      "outputs": [
        {
          "output_type": "stream",
          "text": [
            "사과\n"
          ],
          "name": "stdout"
        }
      ]
    },
    {
      "cell_type": "markdown",
      "metadata": {
        "id": "u9jRxAB3N1yP"
      },
      "source": [
        "데이터 프레임 ?\n",
        "\n",
        "\n",
        "\n",
        "*   다수의 시리즈(Series)를 모아 처리하기 위한 목적으로 사용\n",
        "*   표 형태로 데이터를 손쉽게 출력하고자 할 때 사용할 수 있다.\n",
        "\n",
        "\n",
        "\n"
      ]
    },
    {
      "cell_type": "code",
      "metadata": {
        "colab": {
          "base_uri": "https://localhost:8080/"
        },
        "id": "UCHJ5pYZODiK",
        "outputId": "aebc0094-769e-4245-8c37-2927a2a4bee5"
      },
      "source": [
        "import pandas as pd\n",
        "word_dict={\n",
        "    'Apple':'사과',\n",
        "    'Banana':'바나나',\n",
        "    'Carrot':'당근'\n",
        "}\n",
        "\n",
        "frequency_dict={\n",
        "    'Apple':'3',\n",
        "    'Banana':'5',\n",
        "    'Carrot':'7'\n",
        "}\n",
        "\n",
        "word=pd.Series(word_dict)\n",
        "frequency=pd.Series(frequency_dict)\n",
        "\n",
        "#이름(Name):값(Value)\n",
        "summary =pd.DataFrame({\n",
        "    'word':word,\n",
        "    'frequency':frequency\n",
        "})\n",
        "print(summary)\n",
        "\n",
        "#Apple, Banana, Carrot같은 index를 기준으로 묶여진다.\n"
      ],
      "execution_count": null,
      "outputs": [
        {
          "output_type": "stream",
          "text": [
            "       word frequency\n",
            "Apple    사과         3\n",
            "Banana  바나나         5\n",
            "Carrot   당근         7\n"
          ],
          "name": "stdout"
        }
      ]
    },
    {
      "cell_type": "markdown",
      "metadata": {
        "id": "VHlrwldTPN5U"
      },
      "source": [
        "시리즈의 연산"
      ]
    },
    {
      "cell_type": "code",
      "metadata": {
        "colab": {
          "base_uri": "https://localhost:8080/"
        },
        "id": "ODW_-WY6PQFe",
        "outputId": "7bc5d1e5-6142-4743-af0c-582f787e724f"
      },
      "source": [
        "import pandas as pd\n",
        "word_dict={\n",
        "    'Apple':'사과',\n",
        "    'Banana':'바나나',\n",
        "    'Carrot':'당근'\n",
        "}\n",
        "\n",
        "frequency_dict={\n",
        "    'Apple':3,\n",
        "    'Banana':5,\n",
        "    'Carrot':7\n",
        "}\n",
        "importance_dict={\n",
        "    'Apple':3,\n",
        "    'Banana':2,\n",
        "    'Carrot':1\n",
        "}\n",
        "\n",
        "word=pd.Series(word_dict)\n",
        "frequency=pd.Series(frequency_dict)\n",
        "importance=pd.Series(importance_dict)\n",
        "\n",
        "summary =pd.DataFrame({\n",
        "    'word':word,\n",
        "    'frequency':frequency,\n",
        "    'importance':importance\n",
        "})\n",
        "\n",
        "score=summary['frequency']*summary['importance']\n",
        "summary['score']=score #이를 통해 score라는 시리즈를 만듬과 동시에 값을 저장\n",
        "print(summary)"
      ],
      "execution_count": null,
      "outputs": [
        {
          "output_type": "stream",
          "text": [
            "       word  frequency  importance  score\n",
            "Apple    사과          3           3      9\n",
            "Banana  바나나          5           2     10\n",
            "Carrot   당근          7           1      7\n"
          ],
          "name": "stdout"
        }
      ]
    },
    {
      "cell_type": "markdown",
      "metadata": {
        "id": "0eiFvrDhQilK"
      },
      "source": [
        "데이터 프레임의 슬라이싱"
      ]
    },
    {
      "cell_type": "code",
      "metadata": {
        "colab": {
          "base_uri": "https://localhost:8080/"
        },
        "id": "F0Pil4pbQn_L",
        "outputId": "f74979ba-2a0a-487e-b457-ac6d1692c96a"
      },
      "source": [
        "import pandas as pd\n",
        "word_dict={\n",
        "    'Apple':'사과',\n",
        "    'Banana':'바나나',\n",
        "    'Carrot':'당근',\n",
        "    'Durian':'두리안'\n",
        "}\n",
        "\n",
        "frequency_dict={\n",
        "    'Apple':3,\n",
        "    'Banana':5,\n",
        "    'Carrot':7,\n",
        "    'Durian':2\n",
        "}\n",
        "importance_dict={\n",
        "    'Apple':3,\n",
        "    'Banana':2,\n",
        "    'Carrot':1,\n",
        "    'Durian':1\n",
        "}\n",
        "word=pd.Series(word_dict)\n",
        "frequency=pd.Series(frequency_dict)\n",
        "importance=pd.Series(importance_dict)\n",
        "\n",
        "summary=pd.DataFrame({\n",
        "    'word':word,\n",
        "    'frequemcy':frequency,\n",
        "    'importance':importance\n",
        "})\n",
        "print(summary)\n",
        "\n",
        "#이름을 기준으로 슬라이싱\n",
        "print(summary.loc['Banana':'Carrot','importance':])\n",
        "\n",
        "#인덱스를 기준으로 슬라이싱\n",
        "print(summary.iloc[1:3,1:])"
      ],
      "execution_count": null,
      "outputs": [
        {
          "output_type": "stream",
          "text": [
            "       word  frequemcy  importance\n",
            "Apple    사과          3           3\n",
            "Banana  바나나          5           2\n",
            "Carrot   당근          7           1\n",
            "Durian  두리안          2           1\n",
            "        importance\n",
            "Banana           2\n",
            "Carrot           1\n",
            "        frequemcy  importance\n",
            "Banana          5           2\n",
            "Carrot          7           1\n"
          ],
          "name": "stdout"
        }
      ]
    },
    {
      "cell_type": "code",
      "metadata": {
        "id": "v91JGVrBQn1x"
      },
      "source": [
        ""
      ],
      "execution_count": null,
      "outputs": []
    },
    {
      "cell_type": "markdown",
      "metadata": {
        "id": "-FJkjxOTR574"
      },
      "source": [
        "데이터 프레임의 연산"
      ]
    },
    {
      "cell_type": "code",
      "metadata": {
        "colab": {
          "base_uri": "https://localhost:8080/"
        },
        "id": "tR4BZ70LR7Ly",
        "outputId": "68ecbd94-cdb2-4383-d308-63bb51ee5d22"
      },
      "source": [
        "import pandas as pd\n",
        "word_dict={\n",
        "    'Apple':'사과',\n",
        "    'Banana':'바나나',\n",
        "    'Carrot':'당근',\n",
        "    'Durian':'두리안'\n",
        "}\n",
        "\n",
        "frequency_dict={\n",
        "    'Apple':3,\n",
        "    'Banana':5,\n",
        "    'Carrot':7,\n",
        "    'Durian':2\n",
        "}\n",
        "importance_dict={\n",
        "    'Apple':3,\n",
        "    'Banana':2,\n",
        "    'Carrot':1,\n",
        "    'Durian':1\n",
        "}\n",
        "word=pd.Series(word_dict)\n",
        "frequency=pd.Series(frequency_dict)\n",
        "importance=pd.Series(importance_dict)\n",
        "\n",
        "summary=pd.DataFrame({\n",
        "    'word':word,\n",
        "    'freqeuncy':frequency,\n",
        "    'importance':importance\n",
        "  \n",
        "})\n",
        "\n",
        "print(summary)\n",
        "\n",
        "summary.loc['Apple','importance']=5 #기존의 데이터 변경\n",
        "summary.loc['Elderberry']=['엘더베리',5,3] # 새로운 데이터 삽입\n",
        "print(summary)"
      ],
      "execution_count": null,
      "outputs": [
        {
          "output_type": "stream",
          "text": [
            "       word  freqeuncy  importance\n",
            "Apple    사과          3           3\n",
            "Banana  바나나          5           2\n",
            "Carrot   당근          7           1\n",
            "Durian  두리안          2           1\n",
            "            word  freqeuncy  importance\n",
            "Apple         사과          3           5\n",
            "Banana       바나나          5           2\n",
            "Carrot        당근          7           1\n",
            "Durian       두리안          2           1\n",
            "Elderberry  엘더베리          5           3\n"
          ],
          "name": "stdout"
        }
      ]
    },
    {
      "cell_type": "markdown",
      "metadata": {
        "id": "1cOZDt6lStp-"
      },
      "source": [
        "엑셀로 내보내기/불러오기"
      ]
    },
    {
      "cell_type": "code",
      "metadata": {
        "colab": {
          "base_uri": "https://localhost:8080/"
        },
        "id": "MmF0S-GdSvG2",
        "outputId": "676b7a93-e173-4897-e013-73b9b70c0d45"
      },
      "source": [
        "import pandas as pd\n",
        "word_dict={\n",
        "    'Apple':'사과',\n",
        "    'Banana':'바나나',\n",
        "    'Carrot':'당근'\n",
        "}\n",
        "\n",
        "frequency_dict={\n",
        "    'Apple':3,\n",
        "    'Banana':5,\n",
        "    'Carrot':7\n",
        "}\n",
        "\n",
        "\n",
        "word=pd.Series(word_dict)\n",
        "frequency=pd.Series(frequency_dict)\n",
        "\n",
        "summary=pd.DataFrame({\n",
        "    'word':word,\n",
        "    'frequency':frequency\n",
        "})\n",
        "\n",
        "summary.to_csv('summary.csv',encoding=\"utf-8-sig\") #한글값 처리를 위해 encoding=\"utf-8-sig\"\n",
        "saved=pd.read_csv(\"summary.csv\",index_col=0)\n",
        "print(saved)"
      ],
      "execution_count": null,
      "outputs": [
        {
          "output_type": "stream",
          "text": [
            "       word  frequency\n",
            "Apple    사과          3\n",
            "Banana  바나나          5\n",
            "Carrot   당근          7\n"
          ],
          "name": "stdout"
        }
      ]
    },
    {
      "cell_type": "markdown",
      "metadata": {
        "id": "BlXT4AQhUrn_"
      },
      "source": [
        "# Pandas의 연산과 함수\n"
      ]
    },
    {
      "cell_type": "code",
      "metadata": {
        "id": "Xu5X7GwkU08l"
      },
      "source": [
        ""
      ],
      "execution_count": null,
      "outputs": []
    },
    {
      "cell_type": "markdown",
      "metadata": {
        "id": "V18pAS6SUwZR"
      },
      "source": [
        "데이터 프레임의 Null 여부 확인\n"
      ]
    },
    {
      "cell_type": "code",
      "metadata": {
        "colab": {
          "base_uri": "https://localhost:8080/"
        },
        "id": "mI2qIg1VU6GM",
        "outputId": "74d9fd31-8b99-475b-932e-f8ef2d2bda77"
      },
      "source": [
        "import pandas as pd\n",
        "import numpy as np\n",
        "\n",
        "word_dict={\n",
        "    'Apple':'사과',\n",
        "    'Banana':'바나나',\n",
        "    'Carrot':'당근',\n",
        "    'Durian':'두리안'\n",
        "}\n",
        "frequency_dict={\n",
        "    'Apple':3,\n",
        "    'Banana':5,\n",
        "    'Carrot':np.nan, #nan = Not a number의 줄임말\n",
        "    'Durian':2\n",
        "}\n",
        "importance_dict={\n",
        "    'Apple':3,\n",
        "    'Banana':2,\n",
        "    'Carrot':1,\n",
        "    'Durian':1\n",
        "}\n",
        "\n",
        "word=pd.Series(word_dict)\n",
        "frequency=pd.Series(frequency_dict)\n",
        "importance=pd.Series(importance_dict)\n",
        "\n",
        "summary=pd.DataFrame({\n",
        "    'word':word,\n",
        "    'frequency':frequency,\n",
        "    'importance':importance\n",
        "})\n",
        "\n",
        "print(summary)\n",
        "print(summary.notnull()) #null값이 아닌 data만 True로 반환\n",
        "print(summary.isnull()) #null값인 data만 True로 반환\n",
        "summary['frequency'] = summary['frequency'].fillna('데이터 없음')\n",
        "print(summary)"
      ],
      "execution_count": null,
      "outputs": [
        {
          "output_type": "stream",
          "text": [
            "       word  frequency  importance\n",
            "Apple    사과        3.0           3\n",
            "Banana  바나나        5.0           2\n",
            "Carrot   당근        NaN           1\n",
            "Durian  두리안        2.0           1\n",
            "        word  frequency  importance\n",
            "Apple   True       True        True\n",
            "Banana  True       True        True\n",
            "Carrot  True      False        True\n",
            "Durian  True       True        True\n",
            "         word  frequency  importance\n",
            "Apple   False      False       False\n",
            "Banana  False      False       False\n",
            "Carrot  False       True       False\n",
            "Durian  False      False       False\n",
            "       word frequency  importance\n",
            "Apple    사과         3           3\n",
            "Banana  바나나         5           2\n",
            "Carrot   당근    데이터 없음           1\n",
            "Durian  두리안         2           1\n"
          ],
          "name": "stdout"
        }
      ]
    },
    {
      "cell_type": "markdown",
      "metadata": {
        "id": "RhQgjuatXMKf"
      },
      "source": [
        "시리즈 자료형의 연산"
      ]
    },
    {
      "cell_type": "code",
      "metadata": {
        "colab": {
          "base_uri": "https://localhost:8080/"
        },
        "id": "5jo9dyjgXN3i",
        "outputId": "283b5878-6168-4a57-fb6d-a10e850fa2de"
      },
      "source": [
        "import pandas as pd\n",
        "array1=pd.Series([1,2,3], index=['A','B','C'])\n",
        "array2=pd.Series([4,5,6],index=['B','C','D'])\n",
        "array=array1.add(array2,fill_value=0) #fill_value=0 은 데이터가 한쪽에만 존재하면 다른 쪽에는 0이라는 초기값을 넣어줌\n",
        "print(array)"
      ],
      "execution_count": null,
      "outputs": [
        {
          "output_type": "stream",
          "text": [
            "A    1.0\n",
            "B    6.0\n",
            "C    8.0\n",
            "D    6.0\n",
            "dtype: float64\n"
          ],
          "name": "stdout"
        }
      ]
    },
    {
      "cell_type": "markdown",
      "metadata": {
        "id": "96unqL6ZXteJ"
      },
      "source": [
        "데이터 프레임 자료형의 연산(덧셈)\n",
        "\n",
        "  array1 array2       array\n",
        "A   1      0            1\n",
        "B   2      4            6\n",
        "C   3      5            8\n",
        "D   0      6            6"
      ]
    },
    {
      "cell_type": "code",
      "metadata": {
        "colab": {
          "base_uri": "https://localhost:8080/"
        },
        "id": "Z_GCRmGMYk0p",
        "outputId": "0b388e3e-3f68-4659-9cd3-f5d71e153e5c"
      },
      "source": [
        "import pandas as pd\n",
        "array1=pd.DataFrame([[1,2],[3,4]],index=['A','B'])\n",
        "array2=pd.DataFrame([[1,2,3],[4,5,6],[7,8,9]],index=['B','C','D'])\n",
        "\n",
        "print(array1)\n",
        "print(array2)\n",
        "\n",
        "array=array1.add(array2,fill_value=0)\n",
        "print(array)"
      ],
      "execution_count": null,
      "outputs": [
        {
          "output_type": "stream",
          "text": [
            "   0  1\n",
            "A  1  2\n",
            "B  3  4\n",
            "   0  1  2\n",
            "B  1  2  3\n",
            "C  4  5  6\n",
            "D  7  8  9\n",
            "     0    1    2\n",
            "A  1.0  2.0  NaN\n",
            "B  4.0  6.0  3.0\n",
            "C  4.0  5.0  6.0\n",
            "D  7.0  8.0  9.0\n"
          ],
          "name": "stdout"
        }
      ]
    },
    {
      "cell_type": "markdown",
      "metadata": {
        "id": "eJT3V9npcpik"
      },
      "source": [
        "데이터 프레임 집계 함수"
      ]
    },
    {
      "cell_type": "code",
      "metadata": {
        "colab": {
          "base_uri": "https://localhost:8080/"
        },
        "id": "PvKj4Vz9crW1",
        "outputId": "db0c0c0f-fee6-4838-c79b-4d3b0071b7ab"
      },
      "source": [
        "\n",
        "import pandas as pd\n",
        "array1=pd.DataFrame([[1,2],[3,4]],index=['A','B'])\n",
        "array2=pd.DataFrame([[1,2,3],[4,5,6],[7,8,9]],index=['B','C','D'])\n",
        "\n",
        "array=array1.add(array2,fill_value=0)\n",
        "print(array)\n",
        "print(\"컬럼 1의 합: \",array[1].sum()) #오로지 1 Series에 대한 합계\n",
        "print(array.sum()) #모든 Series에 대한 합계"
      ],
      "execution_count": null,
      "outputs": [
        {
          "output_type": "stream",
          "text": [
            "     0    1    2\n",
            "A  1.0  2.0  NaN\n",
            "B  4.0  6.0  3.0\n",
            "C  4.0  5.0  6.0\n",
            "D  7.0  8.0  9.0\n",
            "컬럼 1의 합:  21.0\n",
            "0    16.0\n",
            "1    21.0\n",
            "2    18.0\n",
            "dtype: float64\n"
          ],
          "name": "stdout"
        }
      ]
    },
    {
      "cell_type": "markdown",
      "metadata": {
        "id": "1Cz-TcFudUwp"
      },
      "source": [
        "데이터 프레임 정렬 함수"
      ]
    },
    {
      "cell_type": "code",
      "metadata": {
        "colab": {
          "base_uri": "https://localhost:8080/"
        },
        "id": "iumAEM3ldWPF",
        "outputId": "65171068-3449-461c-a666-06427230168d"
      },
      "source": [
        "import pandas as pd\n",
        "import numpy as np\n",
        "word_dict={\n",
        "    'Apple':'사과',\n",
        "    'Banana':'바나나',\n",
        "    'Carrot':'당근',\n",
        "    'Durian':'두리안'\n",
        "}\n",
        "frequency_dict={\n",
        "    'Apple':3,\n",
        "    'Banana':5,\n",
        "    'Carrot':1,\n",
        "    'Durian':2\n",
        "}\n",
        "importance_dict={\n",
        "    'Apple':3,\n",
        "    'Banana':2,\n",
        "    'Carrot':1,\n",
        "    'Durian':1\n",
        "}\n",
        "word=pd.Series(word_dict)\n",
        "frequency=pd.Series(frequency_dict)\n",
        "importance=pd.Series(importance_dict)\n",
        "\n",
        "summary=pd.DataFrame({\n",
        "    'word':word,\n",
        "    'frequency':frequency,\n",
        "    'importance':importance\n",
        "})\n",
        "\n",
        "print(summary)\n",
        "summary=summary.sort_values('frequency',ascending=False) # frequency Series를 기준으로 데이터 내림차순정렬\n",
        "print(summary)"
      ],
      "execution_count": null,
      "outputs": [
        {
          "output_type": "stream",
          "text": [
            "       word  frequency  importance\n",
            "Apple    사과          3           3\n",
            "Banana  바나나          5           2\n",
            "Carrot   당근          1           1\n",
            "Durian  두리안          2           1\n",
            "       word  frequency  importance\n",
            "Banana  바나나          5           2\n",
            "Apple    사과          3           3\n",
            "Durian  두리안          2           1\n",
            "Carrot   당근          1           1\n"
          ],
          "name": "stdout"
        }
      ]
    },
    {
      "cell_type": "markdown",
      "metadata": {
        "id": "f1nkBSiEe5ag"
      },
      "source": [
        "# Pandas의 활용\n"
      ]
    },
    {
      "cell_type": "markdown",
      "metadata": {
        "id": "GMpyEYbMfFr-"
      },
      "source": [
        "데이터 프레임의 마스킹"
      ]
    },
    {
      "cell_type": "code",
      "metadata": {
        "colab": {
          "base_uri": "https://localhost:8080/"
        },
        "id": "2vByE1SAe-Ym",
        "outputId": "7339cb73-6068-4418-bfd3-bb5f16f04771"
      },
      "source": [
        "import numpy as np\n",
        "import pandas as pd\n",
        "\n",
        "#랜덤 값 저장\n",
        "df=pd.DataFrame(np.random.randint(1,10,(2,2)),index=[0,1],columns=[\"A\",\"B\"])\n",
        "print(df)#데이터 프레임 출력\n",
        "print('\\n')\n",
        "print(df[\"A\"]<=5)#columns A의 각 원소가 5보자 작거나 같은지 출력\n",
        "print('\\n')\n",
        "#마스킹 연산을 쿼리 형태로 작성하기\n",
        "print(df.query(\"A <=5 and B <=8\"))#coulmn A의 원소는 5보자 같거나 작고, B의 원소는 8보다 작거나 같은 행 추출\n",
        "\n",
        "\n"
      ],
      "execution_count": null,
      "outputs": [
        {
          "output_type": "stream",
          "text": [
            "   A  B\n",
            "0  1  6\n",
            "1  1  3\n",
            "\n",
            "\n",
            "0    True\n",
            "1    True\n",
            "Name: A, dtype: bool\n",
            "\n",
            "\n",
            "   A  B\n",
            "0  1  6\n",
            "1  1  3\n"
          ],
          "name": "stdout"
        }
      ]
    },
    {
      "cell_type": "markdown",
      "metadata": {
        "id": "Bo12p_xhnYy3"
      },
      "source": [
        "데이터 프레임의 개별 연산 1"
      ]
    },
    {
      "cell_type": "code",
      "metadata": {
        "colab": {
          "base_uri": "https://localhost:8080/"
        },
        "id": "Cx3XWdXynaPA",
        "outputId": "ed5a849a-824b-4488-f1ff-257db7507fc8"
      },
      "source": [
        "import pandas as pd\n",
        "df=pd.DataFrame([[1,2,3,4],[1,2,3,4]],index=[0,1],columns=['A','B','C','D'])\n",
        "print(df,'\\n')\n",
        "\n",
        "#apply()함수의 안에 함수 형태의 명령어를 입력하면, 데이터가 해당 함수의 값으로 들어간다.\n",
        "#apply()함수와 lambda를 이용해 전체 요소에 +1\n",
        "df=df.apply(lambda x:x+1)\n",
        "print(df,'\\n')\n",
        "\n",
        "#+1하여 반환하는 함수 설정\n",
        "def addOne(x):\n",
        "  return x+1\n",
        "\n",
        "#apply()함수와 addOne함수를 이용해 전체 요소에 +1\n",
        "df=df.apply(addOne)\n",
        "print(df)"
      ],
      "execution_count": null,
      "outputs": [
        {
          "output_type": "stream",
          "text": [
            "   A  B  C  D\n",
            "0  1  2  3  4\n",
            "1  1  2  3  4 \n",
            "\n",
            "   A  B  C  D\n",
            "0  2  3  4  5\n",
            "1  2  3  4  5 \n",
            "\n",
            "   A  B  C  D\n",
            "0  3  4  5  6\n",
            "1  3  4  5  6\n"
          ],
          "name": "stdout"
        }
      ]
    },
    {
      "cell_type": "markdown",
      "metadata": {
        "id": "9k47Ysu0od80"
      },
      "source": [
        "데이터 프레임의 개별 연산 2"
      ]
    },
    {
      "cell_type": "code",
      "metadata": {
        "colab": {
          "base_uri": "https://localhost:8080/"
        },
        "id": "6H-_YGQIogCo",
        "outputId": "3db18ac3-fb68-44c3-bc06-f880ba4da091"
      },
      "source": [
        "import pandas as pd\n",
        "\n",
        "df=pd.DataFrame([\n",
        "                 ['Apple','Apple','Carrot','Banana'],\n",
        "                 ['Durian','Banana','Apple','Carrot']],\n",
        "                index=[0,1],\n",
        "                columns=['A','B','C','D'])\n",
        "\n",
        "print(df,'\\n')\n",
        "\n",
        "#모든 'Apple'을 'Airport'로 변환\n",
        "df=df.replace({\"Apple\":\"Airport\"})\n",
        "print(df)"
      ],
      "execution_count": null,
      "outputs": [
        {
          "output_type": "stream",
          "text": [
            "        A       B       C       D\n",
            "0   Apple   Apple  Carrot  Banana\n",
            "1  Durian  Banana   Apple  Carrot \n",
            "\n",
            "         A        B        C       D\n",
            "0  Airport  Airport   Carrot  Banana\n",
            "1   Durian   Banana  Airport  Carrot\n"
          ],
          "name": "stdout"
        }
      ]
    },
    {
      "cell_type": "markdown",
      "metadata": {
        "id": "C1zlmRKBpOiW"
      },
      "source": [
        "데이터 프레임의 그룹화 1\n"
      ]
    },
    {
      "cell_type": "code",
      "metadata": {
        "colab": {
          "base_uri": "https://localhost:8080/"
        },
        "id": "YuTDCfBdpQLE",
        "outputId": "24c68a8b-89e3-4895-98c6-13955db413bb"
      },
      "source": [
        "import pandas as pd\n",
        "\n",
        "df=pd.DataFrame([\n",
        "                 ['Apple',7,'Fruit'],\n",
        "                 ['Banana',3,'Fruit'],\n",
        "                 ['Beef',5,'Meal'],\n",
        "                 ['Kimchi',4,'Meal']],\n",
        "                 columns=[\"Name\",\"Frequency\",\"Type\"])\n",
        "\n",
        "print(df)\n",
        "#Type별로 합계를 낸다.\n",
        "\n",
        "print(df.groupby(['Type']).sum())"
      ],
      "execution_count": null,
      "outputs": [
        {
          "output_type": "stream",
          "text": [
            "     Name  Frequency   Type\n",
            "0   Apple          7  Fruit\n",
            "1  Banana          3  Fruit\n",
            "2    Beef          5   Meal\n",
            "3  Kimchi          4   Meal\n",
            "       Frequency\n",
            "Type            \n",
            "Fruit         10\n",
            "Meal           9\n"
          ],
          "name": "stdout"
        }
      ]
    },
    {
      "cell_type": "markdown",
      "metadata": {
        "id": "1TP_BYgIuF-Q"
      },
      "source": [
        "데이터 프레임의 그룹화 2"
      ]
    },
    {
      "cell_type": "code",
      "metadata": {
        "colab": {
          "base_uri": "https://localhost:8080/"
        },
        "id": "HBXvVznpuHmf",
        "outputId": "2e9fd606-6073-4298-f7ff-830f51544139"
      },
      "source": [
        "import numpy as np\n",
        "import pandas as pd\n",
        "\n",
        "df=pd.DataFrame([\n",
        "                 ['Apple',7,5,'Fruit'],\n",
        "                 ['Banana',3,6,'Fruit'],\n",
        "                 ['Beef',5,2,'Meal'],\n",
        "                 ['Kimchi',4,8,'Meal']],\n",
        "                columns=[\"Name\",'Frequency','Importance','Type'])\n",
        "\n",
        "print(df)\n",
        "#aggregate([min,max,average]) = min, max,avg를 한꺼번에 구해 출력\n",
        "#aggregate함수가 여러가지 연산을 동시에 수행하게 해줌\n",
        "print(df.groupby([\"Type\"]).aggregate([min,max,np.average]))\n"
      ],
      "execution_count": null,
      "outputs": [
        {
          "output_type": "stream",
          "text": [
            "     Name  Frequency  Importance   Type\n",
            "0   Apple          7           5  Fruit\n",
            "1  Banana          3           6  Fruit\n",
            "2    Beef          5           2   Meal\n",
            "3  Kimchi          4           8   Meal\n",
            "      Frequency             Importance            \n",
            "            min max average        min max average\n",
            "Type                                              \n",
            "Fruit         3   7     5.0          5   6     5.5\n",
            "Meal          4   5     4.5          2   8     5.0\n",
            "     Name  Frequency  Importance   Type\n",
            "0   Apple          7           5  Fruit\n",
            "1  Banana          3           6  Fruit\n",
            "2    Beef          5           2   Meal\n",
            "3  Kimchi          4           8   Meal \n",
            "\n",
            "     Name  Frequency  Importance   Type\n",
            "0   Apple          7           5  Fruit\n",
            "1  Banana          3           6  Fruit\n"
          ],
          "name": "stdout"
        }
      ]
    },
    {
      "cell_type": "markdown",
      "metadata": {
        "id": "pDuvCZQfv5DW"
      },
      "source": [
        "데이터 프레임의 그룹화 3"
      ]
    },
    {
      "cell_type": "code",
      "metadata": {
        "colab": {
          "base_uri": "https://localhost:8080/"
        },
        "id": "rLBIR0nev7BM",
        "outputId": "0ebfe491-abc7-407f-ae82-fa744bbeb24d"
      },
      "source": [
        "import numpy as np\n",
        "import pandas as pd\n",
        "\n",
        "df=pd.DataFrame([\n",
        "                 ['Apple',7,5,'Fruit'],\n",
        "                 ['Banana',3,6,'Fruit'],\n",
        "                 ['Beef',5,2,'Meal'],\n",
        "                 ['Kimchi',4,8,'Meal']],\n",
        "                columns=[\"Name\",'Frequency','Importance','Type'])\n",
        "def my_filter(data):\n",
        "  #Frequency의 평균값(mean)이 5이상인 애들만 반환\n",
        "  return data[\"Frequency\"].mean()>=5\n",
        "\n",
        "print(df,'\\n')\n",
        "\n",
        "df=df.groupby(\"Type\").filter(my_filter)\n",
        "print(df)"
      ],
      "execution_count": null,
      "outputs": [
        {
          "output_type": "stream",
          "text": [
            "     Name  Frequency  Importance   Type\n",
            "0   Apple          7           5  Fruit\n",
            "1  Banana          3           6  Fruit\n",
            "2    Beef          5           2   Meal\n",
            "3  Kimchi          4           8   Meal \n",
            "\n",
            "     Name  Frequency  Importance   Type\n",
            "0   Apple          7           5  Fruit\n",
            "1  Banana          3           6  Fruit\n"
          ],
          "name": "stdout"
        }
      ]
    },
    {
      "cell_type": "markdown",
      "metadata": {
        "id": "Fmtf8y8iwI-j"
      },
      "source": [
        "데이터 프레임의 그룹화 4"
      ]
    },
    {
      "cell_type": "code",
      "metadata": {
        "colab": {
          "base_uri": "https://localhost:8080/"
        },
        "id": "ZBQ_faNTwKOq",
        "outputId": "abb3d3fd-4e9a-424e-f92a-770da0084da2"
      },
      "source": [
        "import pandas as pd\n",
        "\n",
        "\n",
        "\n",
        "df=pd.DataFrame([\n",
        "                 ['Apple',7,5,'Fruit'],\n",
        "                 ['Banana',3,6,'Fruit'],\n",
        "                 ['Beef',5,2,'Meal'],\n",
        "                 ['Kimchi',4,8,'Meal']],\n",
        "                columns=[\"Name\",'Frequency','Importance','Type'])\n",
        "#'Fruit' type의 data만 가져옴\n",
        "df=df.groupby('Type').get_group(\"Fruit\")\n",
        "print(df)\n"
      ],
      "execution_count": null,
      "outputs": [
        {
          "output_type": "stream",
          "text": [
            "     Name  Frequency  Importance   Type\n",
            "0   Apple          7           5  Fruit\n",
            "1  Banana          3           6  Fruit\n"
          ],
          "name": "stdout"
        }
      ]
    },
    {
      "cell_type": "markdown",
      "metadata": {
        "id": "U19ScMZXw88I"
      },
      "source": [
        "데이터 프레임의 그룹화 5"
      ]
    },
    {
      "cell_type": "code",
      "metadata": {
        "colab": {
          "base_uri": "https://localhost:8080/"
        },
        "id": "lUk5dA36w-J9",
        "outputId": "cda805bd-b231-4a1c-dea9-325bbcb5fad3"
      },
      "source": [
        "import pandas as pd\n",
        "df=pd.DataFrame([\n",
        "                 ['Apple',7,5,'Fruit'],\n",
        "                 ['Banana',3,6,'Fruit'],\n",
        "                 ['Beef',5,2,'Meal'],\n",
        "                 ['Kimchi',4,8,'Meal']],\n",
        "                columns=[\"Name\",'Frequency','Importance','Type'])\n",
        "#Gap = 각 요소의 Frequency -Type별 평균Frequency를 \n",
        "df[\"Gap\"]=df.groupby(\"Type\")[\"Frequency\"].apply(lambda x:x-x.mean())\n",
        "print(df)"
      ],
      "execution_count": null,
      "outputs": [
        {
          "output_type": "stream",
          "text": [
            "     Name  Frequency  Importance   Type  Gap\n",
            "0   Apple          7           5  Fruit  2.0\n",
            "1  Banana          3           6  Fruit -2.0\n",
            "2    Beef          5           2   Meal  0.5\n",
            "3  Kimchi          4           8   Meal -0.5\n"
          ],
          "name": "stdout"
        }
      ]
    },
    {
      "cell_type": "markdown",
      "metadata": {
        "id": "W-frjmXmxrfu"
      },
      "source": [
        "데이터 프레임의 다중화"
      ]
    },
    {
      "cell_type": "code",
      "metadata": {
        "colab": {
          "base_uri": "https://localhost:8080/"
        },
        "id": "23K1ZRJ3xs19",
        "outputId": "d0948b53-1448-4e91-9608-838ed143837a"
      },
      "source": [
        "import numpy as np\n",
        "import pandas as pd\n",
        "\n",
        "df=pd.DataFrame(\n",
        "    np.random.randint(1,10,(4,4)),\n",
        "    index=[['1차','1차','2차','2차'],['공격','수비','공격','수비']],\n",
        "    columns=['1회','2회','3회','4회']\n",
        ")\n",
        "\n",
        "print(df)\n",
        "#'1회','2회'에 대하여 '2차'에 수행된 것만 가져오라.\n",
        "print(df[['1회','2회']].loc['2차'])"
      ],
      "execution_count": null,
      "outputs": [
        {
          "output_type": "stream",
          "text": [
            "       1회  2회  3회  4회\n",
            "1차 공격   5   4   9   5\n",
            "   수비   3   3   7   2\n",
            "2차 공격   1   7   7   7\n",
            "   수비   5   3   5   3\n",
            "    1회  2회\n",
            "공격   1   7\n",
            "수비   5   3\n"
          ],
          "name": "stdout"
        }
      ]
    },
    {
      "cell_type": "markdown",
      "metadata": {
        "id": "VewXvg4-zEqt"
      },
      "source": [
        "피벗 테이블의 기초"
      ]
    },
    {
      "cell_type": "code",
      "metadata": {
        "colab": {
          "base_uri": "https://localhost:8080/"
        },
        "id": "b-GFJUxkzF8V",
        "outputId": "eb26b1e3-295b-4231-b6cd-23cc9d9706ff"
      },
      "source": [
        "import pandas as pd\n",
        "import numpy as np\n",
        "\n",
        "df=pd.DataFrame([\n",
        "                 ['Apple',7,5,'Fruit'],\n",
        "                 ['Banana',3,6,'Fruit'],\n",
        "                 ['Coconut',2,6,'Fruit'],\n",
        "                 ['Rice',8,2,'Meal'],\n",
        "                 ['Beef',5,2,'Meal'],\n",
        "                 ['Kimchi',4,8,'Meal']],\n",
        "                columns=[\"Name\",'Frequency','Importance','Type'])\n",
        "print(df,'\\n')\n",
        "#피벗테이블 함수를 이용하여 index=Importance로, 열은 Type, 값은 Frequency를 넣어준다.\n",
        "df=df.pivot_table(\n",
        "    index='Importance',columns='Type',values='Frequency',\n",
        "    aggfunc=np.max #같은 Importance에 관한 Frequency중 더 큰 값을 사용\n",
        ")\n",
        "print(df)"
      ],
      "execution_count": null,
      "outputs": [
        {
          "output_type": "stream",
          "text": [
            "      Name  Frequency  Importance   Type\n",
            "0    Apple          7           5  Fruit\n",
            "1   Banana          3           6  Fruit\n",
            "2  Coconut          2           6  Fruit\n",
            "3     Rice          8           2   Meal\n",
            "4     Beef          5           2   Meal\n",
            "5   Kimchi          4           8   Meal \n",
            "\n",
            "Type        Fruit  Meal\n",
            "Importance             \n",
            "2             NaN   8.0\n",
            "5             7.0   NaN\n",
            "6             3.0   NaN\n",
            "8             NaN   4.0\n"
          ],
          "name": "stdout"
        }
      ]
    },
    {
      "cell_type": "code",
      "metadata": {
        "id": "zuugZCN9zp6M"
      },
      "source": [
        ""
      ],
      "execution_count": null,
      "outputs": []
    }
  ]
}