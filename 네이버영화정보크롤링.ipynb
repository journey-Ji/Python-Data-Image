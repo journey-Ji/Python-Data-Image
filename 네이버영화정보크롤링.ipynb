{
  "nbformat": 4,
  "nbformat_minor": 0,
  "metadata": {
    "colab": {
      "name": "네이버영화정보크롤링.ipynb",
      "provenance": [],
      "collapsed_sections": [],
      "authorship_tag": "ABX9TyPEKSEzLT9NRHJx9B98Y8mS",
      "include_colab_link": true
    },
    "kernelspec": {
      "name": "python3",
      "display_name": "Python 3"
    }
  },
  "cells": [
    {
      "cell_type": "markdown",
      "metadata": {
        "id": "view-in-github",
        "colab_type": "text"
      },
      "source": [
        "<a href=\"https://colab.research.google.com/github/journey-Ji/Python-Data-Image/blob/main/%EB%84%A4%EC%9D%B4%EB%B2%84%EC%98%81%ED%99%94%EC%A0%95%EB%B3%B4%ED%81%AC%EB%A1%A4%EB%A7%81.ipynb\" target=\"_parent\"><img src=\"https://colab.research.google.com/assets/colab-badge.svg\" alt=\"Open In Colab\"/></a>"
      ]
    },
    {
      "cell_type": "markdown",
      "metadata": {
        "id": "s9h2FOShVDsY"
      },
      "source": [
        "# 데이터 크롤링"
      ]
    },
    {
      "cell_type": "code",
      "metadata": {
        "id": "68UEZORbJS5f"
      },
      "source": [
        ""
      ],
      "execution_count": null,
      "outputs": []
    },
    {
      "cell_type": "markdown",
      "metadata": {
        "id": "i_a8lnqzJVw-"
      },
      "source": [
        "리뷰 정보 클래스 작성"
      ]
    },
    {
      "cell_type": "code",
      "metadata": {
        "id": "OvaKbnLrLB3r"
      },
      "source": [
        "import urllib.request\n",
        "from bs4 import BeautifulSoup\n",
        "\n",
        "class Review:\n",
        "  def __init__(self,comment,date,star,good,bad):\n",
        "    self.comment = comment\n",
        "    self.date = date\n",
        "    self.star = star\n",
        "    self.good = good\n",
        "    self.bad = bad\n",
        "\n",
        "  def show(self):\n",
        "    print(\"내용: \" +self.comment +\n",
        "          \"\\n날짜: \" + self.date +\n",
        "          \"\\n별: \" + self.star +\n",
        "          \"\\n좋아요: \" + self.good +\n",
        "          \"\\n싫어: \" + self.bad \n",
        "          \n",
        "          )"
      ],
      "execution_count": 38,
      "outputs": []
    },
    {
      "cell_type": "markdown",
      "metadata": {
        "id": "kqnZDMztLkPr"
      },
      "source": [
        "리뷰 정보 크롤링 함수"
      ]
    },
    {
      "cell_type": "code",
      "metadata": {
        "id": "Ia8KaMRQLex1"
      },
      "source": [
        "def crawl(url):\n",
        "  soup = BeautifulSoup(urllib.request.urlopen(url).read(),\"html.parser\")\n",
        "\n",
        "  review_list = [] #리뷰의 모든 정보를 담기위한 리스트 \n",
        "  title = soup.find('h3',class_= 'h_movie').find('a').text\n",
        "  div = soup.find('div',class_='score_result')\n",
        "  data_list =div.select(\"ul > li\")\n",
        "\n",
        "  for review in data_list:\n",
        "    star = review.find('div', class_=\"star_score\").text.strip()\n",
        "    reply = review.find('div', class_=\"score_reple\")\n",
        "    comment = reply.find(\"p\").text.strip()\n",
        "    date = reply.select('dt > em')[1].text.strip()\n",
        "    button = review.find('div', class_='btn_area')\n",
        "    sympathy = button.select(\"strong\")\n",
        "    good = sympathy[0].text\n",
        "    bad = sympathy[1].text\n",
        "    review_list.append(Review(comment,date, star, good, bad))\n",
        "\n",
        "  return title, review_list\n"
      ],
      "execution_count": 39,
      "outputs": []
    },
    {
      "cell_type": "markdown",
      "metadata": {
        "id": "AyDlO5ZbNWqN"
      },
      "source": [
        "리뷰 정보 크롤링 실습 "
      ]
    },
    {
      "cell_type": "code",
      "metadata": {
        "colab": {
          "base_uri": "https://localhost:8080/"
        },
        "id": "EcB2Rz3kNYNn",
        "outputId": "83bdaf1b-8763-4eb3-e737-3accf5589291"
      },
      "source": [
        "title, review_list = crawl(\"https://movie.naver.com/movie/bi/mi/basic.nhn?code=36944\")\n",
        "\n",
        "print('제목: '+title)\n",
        "for review in review_list:\n",
        "  review.show()\n"
      ],
      "execution_count": 34,
      "outputs": [
        {
          "output_type": "stream",
          "text": [
            "제목: 올드보이\n",
            "내용: 이 영화는 필요 이상으로 너무 잘만들었다. 인간이 만든 작품이 아니다.\n",
            "날짜: 2013.06.09 17:59\n",
            "별: 10\n",
            "좋아요: 3478\n",
            "싫어: 205\n",
            "내용: 충격적인 영화 촬영 기법, 스토리, 눈물샘을 자극시키는 사운드트랙. 대중영화 예술에 큰 기여를 한 혁명적인 영화.\n",
            "날짜: 2013.06.09 01:08\n",
            "별: 10\n",
            "좋아요: 2216\n",
            "싫어: 88\n",
            "내용: 사람은 상상력이 있어서 비겁해 지는거래...\n",
            "날짜: 2013.07.17 14:26\n",
            "별: 10\n",
            "좋아요: 1985\n",
            "싫어: 70\n",
            "내용: 10년만에 다시 본 올드보이. 역시 최고였다.\n",
            "날짜: 2013.07.28 01:53\n",
            "별: 10\n",
            "좋아요: 1518\n",
            "싫어: 71\n",
            "내용: 개인적으로는 레옹보다 명작이라고 생각한다. 한국에서 다시 나오기 힘든 작품\n",
            "날짜: 2013.07.15 11:15\n",
            "별: 10\n",
            "좋아요: 1466\n",
            "싫어: 127\n"
          ],
          "name": "stdout"
        }
      ]
    },
    {
      "cell_type": "code",
      "metadata": {
        "id": "HZBpWZGwNrHt"
      },
      "source": [
        ""
      ],
      "execution_count": null,
      "outputs": []
    },
    {
      "cell_type": "markdown",
      "metadata": {
        "id": "k35UVpKuU-Jr"
      },
      "source": [
        "# 데이터 시각화"
      ]
    },
    {
      "cell_type": "markdown",
      "metadata": {
        "id": "XmUGQbCrVMto"
      },
      "source": [
        "데이터 프레임"
      ]
    },
    {
      "cell_type": "code",
      "metadata": {
        "id": "Yw0YS9nkVSoe"
      },
      "source": [
        "import pandas as pd\n",
        "\n",
        "def get_summary(review_list):\n",
        "  star_list=[]\n",
        "  good_list=[]\n",
        "  bad_list=[]\n",
        "\n",
        "  for review in review_list:\n",
        "    star_list.append(int(review.star))\n",
        "    good_list.append(int(review.good))\n",
        "    bad_list.append(int(review.bad))\n",
        "\n",
        "  star_series = pd.Series(star_list)\n",
        "  good_series = pd.Series(good_list)\n",
        "  bad_series = pd.Series(bad_list)\n",
        "\n",
        "  summary = pd.DataFrame({\n",
        "      'Star' : star_series,\n",
        "      'Good' : good_series,\n",
        "      'Bad' : bad_series,\n",
        "      'Score' : good_series / (good_series + bad_series)\n",
        "\n",
        "  })\n",
        "  return summary"
      ],
      "execution_count": 43,
      "outputs": []
    },
    {
      "cell_type": "markdown",
      "metadata": {
        "id": "WThrfI6RWZCH"
      },
      "source": [
        "다수의 영화 데이터 시각화"
      ]
    },
    {
      "cell_type": "code",
      "metadata": {
        "colab": {
          "base_uri": "https://localhost:8080/"
        },
        "id": "UWXDH7gCWWks",
        "outputId": "2ff2f9ff-a824-4bc8-a413-6cb79191e3a5"
      },
      "source": [
        "movie_code_list = [136900,167657, 174321, 184859, 167391]\n",
        "review_lists=[]\n",
        "\n",
        "for i in movie_code_list:\n",
        "  title, review_list = crawl(\"https://movie.naver.com/movie/bi/mi/basic.nhn?code=\"+str(i))\n",
        "  summary =get_summary(review_list)\n",
        "  print(\"[%s]\"%(title))\n",
        "  print(summary)\n",
        "  review_lists.append((title,review_list))"
      ],
      "execution_count": 46,
      "outputs": [
        {
          "output_type": "stream",
          "text": [
            "[어벤져스: 엔드게임]\n",
            "   Star   Good  Bad     Score\n",
            "0    10  23712  663  0.972800\n",
            "1    10  15704  442  0.972625\n",
            "2    10  15308  473  0.970027\n",
            "3    10  13676  560  0.960663\n",
            "4    10  11861  436  0.964544\n",
            "[명탐정 피카츄]\n",
            "   Star  Good  Bad     Score\n",
            "0    10  1961  105  0.949177\n",
            "1    10   986   85  0.920635\n",
            "2    10   907   78  0.920812\n",
            "3     8   956  283  0.771590\n",
            "4     8   632   43  0.936296\n",
            "[고양이 여행 리포트]\n",
            "   Star  Good  Bad     Score\n",
            "0    10    75    5  0.937500\n",
            "1    10    45    3  0.937500\n",
            "2    10    35    4  0.897436\n",
            "3    10    32    2  0.941176\n",
            "4     6    53   25  0.679487\n",
            "[물의 기억]\n",
            "   Star  Good  Bad     Score\n",
            "0    10    28   11  0.717949\n",
            "1    10    26   11  0.702703\n",
            "2    10    23   10  0.696970\n",
            "3    10    18    6  0.750000\n",
            "4    10    21    9  0.700000\n",
            "[더 캡틴]\n",
            "   Star  Good  Bad     Score\n",
            "0     9    87   12  0.878788\n",
            "1    10    46    5  0.901961\n",
            "2    10    48    7  0.872727\n",
            "3     8    41    6  0.872340\n",
            "4     8    29    0  1.000000\n"
          ],
          "name": "stdout"
        }
      ]
    },
    {
      "cell_type": "markdown",
      "metadata": {
        "id": "jhJrHHWIX-p1"
      },
      "source": [
        "다수의 영화 데이터 시각화 \n",
        "\n",
        "Matplotlib를 이용한 시각화"
      ]
    },
    {
      "cell_type": "code",
      "metadata": {
        "colab": {
          "base_uri": "https://localhost:8080/"
        },
        "id": "BEx0sHKtW50l",
        "outputId": "fa71c5bd-b057-4e90-cf40-e44636ae8379"
      },
      "source": [
        "!apt-get updatae -qq\n",
        "!apt-get install fonts-nanum* -qq # 나눔고딕 폰트 설치 \n",
        "\n",
        "\n"
      ],
      "execution_count": 47,
      "outputs": [
        {
          "output_type": "stream",
          "text": [
            "E: Invalid operation updatae\n",
            "Selecting previously unselected package fonts-nanum.\n",
            "(Reading database ... 146425 files and directories currently installed.)\n",
            "Preparing to unpack .../fonts-nanum_20170925-1_all.deb ...\n",
            "Unpacking fonts-nanum (20170925-1) ...\n",
            "Selecting previously unselected package fonts-nanum-eco.\n",
            "Preparing to unpack .../fonts-nanum-eco_1.000-6_all.deb ...\n",
            "Unpacking fonts-nanum-eco (1.000-6) ...\n",
            "Selecting previously unselected package fonts-nanum-extra.\n",
            "Preparing to unpack .../fonts-nanum-extra_20170925-1_all.deb ...\n",
            "Unpacking fonts-nanum-extra (20170925-1) ...\n",
            "Selecting previously unselected package fonts-nanum-coding.\n",
            "Preparing to unpack .../fonts-nanum-coding_2.5-1_all.deb ...\n",
            "Unpacking fonts-nanum-coding (2.5-1) ...\n",
            "Setting up fonts-nanum-extra (20170925-1) ...\n",
            "Setting up fonts-nanum (20170925-1) ...\n",
            "Setting up fonts-nanum-coding (2.5-1) ...\n",
            "Setting up fonts-nanum-eco (1.000-6) ...\n",
            "Processing triggers for fontconfig (2.12.6-0ubuntu2) ...\n"
          ],
          "name": "stdout"
        }
      ]
    },
    {
      "cell_type": "code",
      "metadata": {
        "colab": {
          "base_uri": "https://localhost:8080/",
          "height": 310
        },
        "id": "HID4gGtrYImL",
        "outputId": "e258eea3-916a-4d60-99dd-be3f902594eb"
      },
      "source": [
        "import matplotlib\n",
        "import matplotlib.pyplot as plt\n",
        "import matplotlib.font_manager as fm  \n",
        "\n",
        "font_path = '/usr/share/fonts/truetype/nanum/NanumBarunGothic.ttf'\n",
        "fontprop = fm.FontProperties(fname=font_path, size=18)\n",
        "\n",
        "def movie_compare(review_lists):\n",
        "  count=1\n",
        "  x = []\n",
        "  y = []\n",
        "  for movie, review_list in review_lists:\n",
        "    x.append(count)\n",
        "    summary = get_summary(review_list)\n",
        "    summary = summary[summary['Score'] > 0.8] #신뢰할 만한 정보만 걸러옴\n",
        "    y.append(summary['Star'].mean())\n",
        "    count +=1\n",
        "  plt.bar(x,y)\n",
        "  plt.title('영화 별점 비교', fontproperties = fontprop)\n",
        "  plt.xlabel('영화 번호', fontproperties = fontprop)\n",
        "  plt.ylabel('신뢰성 별점 평균', fontproperties = fontprop)\n",
        "  plt.show()\n",
        "\n",
        "movie_compare(review_lists)\n",
        "\n",
        "#4번 영화인 물의 기억의 경우 신뢰성을 바탕으로 하는 Score의 점수가 0.8을 모두 넘기지 못하는 리뷰들만 가져왔기 때문에\n",
        "#점수를 집계하지 못함"
      ],
      "execution_count": 50,
      "outputs": [
        {
          "output_type": "display_data",
          "data": {
            "image/png": "[encoded data removed]",
            "text/plain": [
              "<Figure size 432x288 with 1 Axes>"
            ]
          },
          "metadata": {
            "tags": [],
            "needs_background": "light"
          }
        }
      ]
    },
    {
      "cell_type": "code",
      "metadata": {
        "id": "NJEpR8scZMNH"
      },
      "source": [
        ""
      ],
      "execution_count": null,
      "outputs": []
    }
  ]
}