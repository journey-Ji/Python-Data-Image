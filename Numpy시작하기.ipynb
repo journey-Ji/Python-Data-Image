{
  "nbformat": 4,
  "nbformat_minor": 0,
  "metadata": {
    "colab": {
      "name": "Numpy시작하기.ipynb",
      "provenance": [],
      "collapsed_sections": [],
      "authorship_tag": "ABX9TyNnneL4RhFSBbQujxNReLBv",
      "include_colab_link": true
    },
    "kernelspec": {
      "name": "python3",
      "display_name": "Python 3"
    }
  },
  "cells": [
    {
      "cell_type": "markdown",
      "metadata": {
        "id": "view-in-github",
        "colab_type": "text"
      },
      "source": [
        "<a href=\"https://colab.research.google.com/github/journey-Ji/Python-Data-Image/blob/main/Numpy%EC%8B%9C%EC%9E%91%ED%95%98%EA%B8%B0.ipynb\" target=\"_parent\"><img src=\"https://colab.research.google.com/assets/colab-badge.svg\" alt=\"Open In Colab\"/></a>"
      ]
    },
    {
      "cell_type": "code",
      "metadata": {
        "id": "-7mFNUQfLHFI"
      },
      "source": [
        ""
      ],
      "execution_count": null,
      "outputs": []
    },
    {
      "cell_type": "markdown",
      "metadata": {
        "id": "KX0KHbt4LH1o"
      },
      "source": [
        "# Numpy 기본 사용법"
      ]
    },
    {
      "cell_type": "markdown",
      "metadata": {
        "id": "eT15fgBjLLqS"
      },
      "source": [
        "Numpy ? \n",
        "다차원 배열을 효과적으로 처리하는 도구\n"
      ]
    },
    {
      "cell_type": "code",
      "metadata": {
        "colab": {
          "base_uri": "https://localhost:8080/"
        },
        "id": "aYsWcBt6LPHx",
        "outputId": "d2bd41b1-6985-468d-f714-92b01a1615c8"
      },
      "source": [
        "import numpy as np\n",
        "\n",
        "list_data=[1,2,3] #리스트를 생성\n",
        "array=np.array(list_data) #리스트를 numpy로 불러와서 저장\n",
        "print(list_data)\n",
        "print(array.dtype)\n",
        "print(array[2])\n",
        "#위 처럼numpy는 list와 같이 사용할 수 있다."
      ],
      "execution_count": 4,
      "outputs": [
        {
          "output_type": "stream",
          "text": [
            "[1, 2, 3]\n",
            "int64\n",
            "3\n"
          ],
          "name": "stdout"
        }
      ]
    },
    {
      "cell_type": "markdown",
      "metadata": {
        "id": "lo8YNVf708Ok"
      },
      "source": [
        "Numpy로 0부터 3까지의 배열 만들기"
      ]
    },
    {
      "cell_type": "code",
      "metadata": {
        "colab": {
          "base_uri": "https://localhost:8080/"
        },
        "id": "5o8IAMgp0_57",
        "outputId": "9958df66-ff46-4874-8bc5-71e189983552"
      },
      "source": [
        "import numpy as np\n",
        "\n",
        "array1=np.arange(4)#입력값-1 까지의 숫자까지 배열 출력\n",
        "print(array1,'\\n')\n",
        "\n",
        "array2=np.zeros((4,4),dtype=float)#4*4의 배열, 초깃값=0, type=float\n",
        "print(array2,'\\n')\n",
        "\n",
        "array3= np.ones((3,3),dtype=str)\n",
        "print(array3,'\\n')\n",
        "\n",
        "array4=np.random.randint(0,10,(4,4))\n",
        "print(array4,'\\n')\n",
        "\n",
        "# 평균이 0이고, 표준편차가 1인 표준 정규를 띄는 배열\n",
        "array5 = np.random.normal(0,1,(3,3))\n",
        "print(array5)\n",
        "\n"
      ],
      "execution_count": 18,
      "outputs": [
        {
          "output_type": "stream",
          "text": [
            "[0 1 2 3] \n",
            "\n",
            "[[0. 0. 0. 0.]\n",
            " [0. 0. 0. 0.]\n",
            " [0. 0. 0. 0.]\n",
            " [0. 0. 0. 0.]] \n",
            "\n",
            "[['1' '1' '1']\n",
            " ['1' '1' '1']\n",
            " ['1' '1' '1']] \n",
            "\n",
            "[[6 8 5 7]\n",
            " [0 7 5 6]\n",
            " [5 1 8 1]\n",
            " [5 4 6 0]] \n",
            "\n",
            "[[ 0.64593759 -1.49024322 -0.58568673]\n",
            " [ 0.58188087  1.60197908 -0.55375139]\n",
            " [-0.65357494  0.92870195 -1.34042565]]\n",
            "-0.865182441377203\n"
          ],
          "name": "stdout"
        }
      ]
    },
    {
      "cell_type": "markdown",
      "metadata": {
        "id": "y1ItQnZd3-qC"
      },
      "source": [
        "Numpy 배열 합치기"
      ]
    },
    {
      "cell_type": "code",
      "metadata": {
        "colab": {
          "base_uri": "https://localhost:8080/"
        },
        "id": "reurNdig4A0P",
        "outputId": "ceb4abb5-b866-4a17-a8aa-60bde2e69eba"
      },
      "source": [
        "import numpy as np\n",
        "array1 =np.array([1,2,3])\n",
        "array2=np.array([4,5,6])\n",
        "array3=np.concatenate([array1,array2])\n",
        "\n",
        "print(array3.shape)\n",
        "print(array3)"
      ],
      "execution_count": 20,
      "outputs": [
        {
          "output_type": "stream",
          "text": [
            "(6,)\n",
            "[1 2 3 4 5 6]\n"
          ],
          "name": "stdout"
        }
      ]
    },
    {
      "cell_type": "markdown",
      "metadata": {
        "id": "VStlCAXl9BcE"
      },
      "source": [
        "Numpy 배열 형태 바꾸기"
      ]
    },
    {
      "cell_type": "code",
      "metadata": {
        "colab": {
          "base_uri": "https://localhost:8080/"
        },
        "id": "yDYRGuYc9DI0",
        "outputId": "0f435dd0-882a-47d6-f084-bce60d06f950"
      },
      "source": [
        "import numpy as np\n",
        "\n",
        "array1=np.array([1,2,3,4])\n",
        "array2=array1.reshape((2,2))\n",
        "print(array2.shape)\n",
        "print(array2)"
      ],
      "execution_count": 22,
      "outputs": [
        {
          "output_type": "stream",
          "text": [
            "(2, 2)\n",
            "[[1 2]\n",
            " [3 4]]\n"
          ],
          "name": "stdout"
        }
      ]
    },
    {
      "cell_type": "markdown",
      "metadata": {
        "id": "zeH2Ueky9Wzz"
      },
      "source": [
        "Numpy 배열 세로 축으로 합치기"
      ]
    },
    {
      "cell_type": "code",
      "metadata": {
        "colab": {
          "base_uri": "https://localhost:8080/"
        },
        "id": "dFXIyg_C9bDX",
        "outputId": "6fd1efec-bdbf-4e72-8b05-289f8a880592"
      },
      "source": [
        "import numpy as np\n",
        "array1=np.arange(4).reshape(1,4)\n",
        "array2=np.arange(8).reshape(2,4)\n",
        "\n",
        "print(array1,'\\n')\n",
        "print(array2,'\\n')\n",
        "\n",
        "array3=np.concatenate([array1,array2],axis=0)#axis=0 값을 부여하면 세로로 데이터가 합쳐진다.\n",
        "print(array3)\n",
        "\n"
      ],
      "execution_count": 24,
      "outputs": [
        {
          "output_type": "stream",
          "text": [
            "[[0 1 2 3]]\n",
            "[[0 1 2 3]\n",
            " [4 5 6 7]]\n",
            "[[0 1 2 3]\n",
            " [0 1 2 3]\n",
            " [4 5 6 7]]\n"
          ],
          "name": "stdout"
        }
      ]
    },
    {
      "cell_type": "markdown",
      "metadata": {
        "id": "zPyDl1Pl99q0"
      },
      "source": [
        "Numpy 배열 나누기"
      ]
    },
    {
      "cell_type": "code",
      "metadata": {
        "colab": {
          "base_uri": "https://localhost:8080/"
        },
        "id": "7gbt8tU39_tT",
        "outputId": "5c0ab16a-2d47-4219-9119-6764685f69a2"
      },
      "source": [
        "import numpy as np\n",
        "\n",
        "array=np.arange(8).reshape(2,4)\n",
        "left,right =np.split(array,[2],axis=1)# axis=1은 열을 기준으로 배열을 나눈다.\n",
        "print(left.shape)\n",
        "print(right.shape)\n",
        "print(array)\n",
        "print(right)\n",
        "print(right[1][1])\n",
        "\n",
        "\n"
      ],
      "execution_count": 30,
      "outputs": [
        {
          "output_type": "stream",
          "text": [
            "(2, 2)\n",
            "(2, 2)\n",
            "[[0 1 2 3]\n",
            " [4 5 6 7]]\n",
            "[[2 3]\n",
            " [6 7]]\n",
            "7\n"
          ],
          "name": "stdout"
        }
      ]
    },
    {
      "cell_type": "markdown",
      "metadata": {
        "id": "nWai7Qci-60I"
      },
      "source": [
        "Numpy "
      ]
    }
  ]
}